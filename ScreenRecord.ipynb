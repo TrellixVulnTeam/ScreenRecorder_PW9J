{
 "cells": [
  {
   "cell_type": "code",
   "execution_count": 1,
   "metadata": {},
   "outputs": [],
   "source": [
    "import numpy as np\n",
    "import cv2\n",
    "from PIL import ImageGrab\n",
    "#python image library (pillow)\n",
    "#using rapid screenshots to convert into video file\n",
    "\n",
    "fourcc = cv2.VideoWriter_fourcc('X','V','I','D')\n",
    "vid = cv2.VideoWriter('output.mp4', fourcc, 8, (800,800)) \n",
    "#taking care of offsets\n",
    "\n",
    "\n",
    "\n",
    "while True:\n",
    "    img = ImageGrab.grab(bbox=(40, 40, 840, 840)) \n",
    "    img_np = np.array(img)\n",
    "    \n",
    "#     frame = cv2.cvtColor(img_np, cv2.COLOR_BGR2RGB)\n",
    "#     made no change in original np array \n",
    "    vid.write(img_np)\n",
    "    cv2.imshow(\"frame\", img_np)\n",
    "    key = cv2.waitKey(1)\n",
    "    if key == 27:\n",
    "        break\n",
    "    \n",
    "\n",
    "vid.release()\n",
    "cv2.destroyAllWindows() "
   ]
  },
  {
   "cell_type": "code",
   "execution_count": null,
   "metadata": {},
   "outputs": [],
   "source": []
  }
 ],
 "metadata": {
  "kernelspec": {
   "display_name": "env",
   "language": "python",
   "name": "env"
  },
  "language_info": {
   "codemirror_mode": {
    "name": "ipython",
    "version": 3
   },
   "file_extension": ".py",
   "mimetype": "text/x-python",
   "name": "python",
   "nbconvert_exporter": "python",
   "pygments_lexer": "ipython3",
   "version": "3.8.0"
  }
 },
 "nbformat": 4,
 "nbformat_minor": 4
}
